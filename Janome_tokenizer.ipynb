{
 "cells": [
  {
   "cell_type": "markdown",
   "metadata": {},
   "source": [
    "# 単語の自動認識　（形態素解析）\n",
    "- 単語認識には形態素解析というAI的なエンジンが必要\n",
    "- 以下、形態素解析エンジン Janomeを利用したコーディング\n",
    "- 単語どのもの以外に、品詞などの属性も認識できる\n",
    "- tokenize(' ')内にいろいろ文章をタイプインして結果を確認すること"
   ]
  },
  {
   "cell_type": "code",
   "execution_count": 5,
   "metadata": {},
   "outputs": [
    {
     "name": "stdout",
     "output_type": "stream",
     "text": [
      "すもも\t名詞,一般,*,*,*,*,すもも,スモモ,スモモ\n",
      "も\t助詞,係助詞,*,*,*,*,も,モ,モ\n",
      "もも\t名詞,一般,*,*,*,*,もも,モモ,モモ\n",
      "も\t助詞,係助詞,*,*,*,*,も,モ,モ\n",
      "もも\t名詞,一般,*,*,*,*,もも,モモ,モモ\n",
      "の\t助詞,連体化,*,*,*,*,の,ノ,ノ\n",
      "うち\t名詞,非自立,副詞可能,*,*,*,うち,ウチ,ウチ\n"
     ]
    }
   ],
   "source": [
    "from janome.tokenizer import Tokenizer\n",
    "word_split = Tokenizer() # 形態素解析を行うための準備（インスタンス化、オブジェクト化と呼ばれる）\n",
    "for token in word_split.tokenize('すもももももももものうち'): # 形態素解析をした結果を１つ１つ取り出す繰り返し\n",
    "\tprint(token)"
   ]
  },
  {
   "cell_type": "code",
   "execution_count": 4,
   "metadata": {},
   "outputs": [
    {
     "name": "stdout",
     "output_type": "stream",
     "text": [
      "Defaulting to user installation because normal site-packages is not writeable\n",
      "Requirement already satisfied: janome in c:\\users\\uhoku\\appdata\\roaming\\python\\python39\\site-packages (0.4.2)\n"
     ]
    }
   ],
   "source": [
    "!pip install janome"
   ]
  },
  {
   "cell_type": "markdown",
   "metadata": {},
   "source": [
    "- 特定の品詞だけを取り出すこともできる\n",
    "- \\## は何をやっているか？"
   ]
  },
  {
   "cell_type": "code",
   "execution_count": 7,
   "metadata": {},
   "outputs": [
    {
     "name": "stdout",
     "output_type": "stream",
     "text": [
      "名詞,一般,*,*\n",
      "すもも\t名詞,一般,*,*,*,*,すもも,スモモ,スモモ\n",
      "助詞,係助詞,*,*\n",
      "名詞,一般,*,*\n",
      "もも\t名詞,一般,*,*,*,*,もも,モモ,モモ\n",
      "助詞,係助詞,*,*\n",
      "名詞,一般,*,*\n",
      "もも\t名詞,一般,*,*,*,*,もも,モモ,モモ\n",
      "助詞,連体化,*,*\n",
      "名詞,非自立,副詞可能,*\n",
      "うち\t名詞,非自立,副詞可能,*,*,*,うち,ウチ,ウチ\n"
     ]
    }
   ],
   "source": [
    "from janome.tokenizer import Tokenizer\n",
    "\n",
    "t = Tokenizer()\n",
    "words=[]\n",
    "for token in t.tokenize('すもももももももものうち'):\n",
    "    \n",
    "    hinshi = token.part_of_speech.split(',') ## \n",
    "    if hinshi[0] =='名詞' :\n",
    "       print(token)"
   ]
  },
  {
   "cell_type": "code",
   "execution_count": 10,
   "metadata": {},
   "outputs": [
    {
     "data": {
      "text/plain": [
       "['今日', 'は', '晴れ']"
      ]
     },
     "execution_count": 10,
     "metadata": {},
     "output_type": "execute_result"
    }
   ],
   "source": []
  },
  {
   "cell_type": "code",
   "execution_count": null,
   "metadata": {},
   "outputs": [],
   "source": []
  }
 ],
 "metadata": {
  "celltoolbar": "Raw Cell Format",
  "kernelspec": {
   "display_name": "Python 3 (ipykernel)",
   "language": "python",
   "name": "python3"
  },
  "language_info": {
   "codemirror_mode": {
    "name": "ipython",
    "version": 3
   },
   "file_extension": ".py",
   "mimetype": "text/x-python",
   "name": "python",
   "nbconvert_exporter": "python",
   "pygments_lexer": "ipython3",
   "version": "3.9.12"
  }
 },
 "nbformat": 4,
 "nbformat_minor": 4
}
